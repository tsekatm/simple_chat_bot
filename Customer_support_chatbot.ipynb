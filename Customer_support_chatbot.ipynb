{
  "nbformat": 4,
  "nbformat_minor": 0,
  "metadata": {
    "colab": {
      "provenance": [],
      "authorship_tag": "ABX9TyMHPjdb7VXVhhqacejntqVu",
      "include_colab_link": true
    },
    "kernelspec": {
      "name": "python3",
      "display_name": "Python 3"
    },
    "language_info": {
      "name": "python"
    }
  },
  "cells": [
    {
      "cell_type": "markdown",
      "metadata": {
        "id": "view-in-github",
        "colab_type": "text"
      },
      "source": [
        "<a href=\"https://colab.research.google.com/github/tsekatm/simple_chat_bot/blob/main/Customer_support_chatbot.ipynb\" target=\"_parent\"><img src=\"https://colab.research.google.com/assets/colab-badge.svg\" alt=\"Open In Colab\"/></a>"
      ]
    },
    {
      "cell_type": "code",
      "execution_count": 1,
      "metadata": {
        "colab": {
          "base_uri": "https://localhost:8080/"
        },
        "id": "DPT71xLgGbtT",
        "outputId": "e74c8adb-1c25-4247-906d-315b48db5953"
      },
      "outputs": [
        {
          "output_type": "stream",
          "name": "stdout",
          "text": [
            "You: Hello! Welcome to TechGadget Support. How can I assist you today\n",
            "Bot: I'm not sure how to respond to that. Can you try asking something else?\n",
            "You: hi\n",
            "Bot: Hello! Welcome to TechGadget Support. How can I assist you today?\n",
            "You: do you have smartwatches\n",
            "Bot: Yes, we have a variety of smartwatches. You can check them out on our products page.\n",
            "You: shipping time\n",
            "Bot: Hello! Welcome to TechGadget Support. How can I assist you today?\n",
            "You: bye\n",
            "Bot: Goodbye! If you have any more questions, we're here to help.\n"
          ]
        }
      ],
      "source": [
        "# Simple Customer Support Chatbot\n",
        "\n",
        "responses = {\n",
        "      \"hi\": \"Hello! Welcome to TechGadget Support. How can I assist you today?\",\n",
        "      \"do you have smartwatches\": \"Yes, we have a variety of smartwatches. You can check them out on our products page.\",\n",
        "      \"shipping time\": \"Shipping usually takes 3-5 business days.\",\n",
        "      \"shipping methods\": \"We offer standard, expedited, and overnight shipping.\",\n",
        "      \"return policy\": \"You can return products within 30 days of receipt for a full refund.\",\n",
        "      \"how to return\": \"To return a product, please visit our returns page for a step-by-step guide.\",\n",
        "      \"won’t turn on\": \"Make sure your gadget is charged. If it still won’t turn on, you can visit our troubleshooting page.\",\n",
        "      \"reset device\": \"To reset your device, hold down the power button for 10 seconds. If that doesn't work, please check the manual for a factory reset.\",\n",
        "      \"bye\": \"Thank you for visiting TechGadget. If you have more questions, feel free to ask. Goodbye!\"\n",
        "}\n",
        "\n",
        "def get_bot_response(user_input):\n",
        "      user_input = user_input.lower()\n",
        "\n",
        "      for keyword, response in responses.items():\n",
        "          if keyword in user_input:\n",
        "              return response\n",
        "\n",
        "      return \"I'm not sure how to respond to that. Can you try asking something else?\"\n",
        "\n",
        "while True:\n",
        "      user_input = input(\"You: \")\n",
        "      if user_input.lower() in [\"quit\", \"exit\", \"bye\"]:\n",
        "          print(\"Bot: Goodbye! If you have any more questions, we're here to help.\")\n",
        "          break\n",
        "\n",
        "      response = get_bot_response(user_input)\n",
        "      print(f\"Bot: {response}\")"
      ]
    }
  ]
}